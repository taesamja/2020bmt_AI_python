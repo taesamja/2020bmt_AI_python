{
  "nbformat": 4,
  "nbformat_minor": 0,
  "metadata": {
    "colab": {
      "name": "방과후10_31400",
      "provenance": [],
      "authorship_tag": "ABX9TyNHq6Rfm1A8dYXueYfuQptY",
      "include_colab_link": true
    },
    "kernelspec": {
      "name": "python3",
      "display_name": "Python 3"
    }
  },
  "cells": [
    {
      "cell_type": "markdown",
      "metadata": {
        "id": "view-in-github",
        "colab_type": "text"
      },
      "source": [
        "<a href=\"https://colab.research.google.com/github/taesamja/2020bmt_AI_python/blob/master/%EB%B0%A9%EA%B3%BC%ED%9B%8410_31400.ipynb\" target=\"_parent\"><img src=\"https://colab.research.google.com/assets/colab-badge.svg\" alt=\"Open In Colab\"/></a>"
      ]
    },
    {
      "cell_type": "markdown",
      "metadata": {
        "id": "w_L5ft4SJ3F-",
        "colab_type": "text"
      },
      "source": [
        "# Keras AI"
      ]
    },
    {
      "cell_type": "code",
      "metadata": {
        "id": "GEo1TGWeJxIz",
        "colab_type": "code",
        "colab": {}
      },
      "source": [
        ""
      ],
      "execution_count": 0,
      "outputs": []
    }
  ]
}