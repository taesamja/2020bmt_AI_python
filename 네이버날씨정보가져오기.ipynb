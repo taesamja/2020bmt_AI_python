{
  "nbformat": 4,
  "nbformat_minor": 0,
  "metadata": {
    "colab": {
      "name": "네이버날씨정보가져오기",
      "provenance": [],
      "collapsed_sections": [],
      "authorship_tag": "ABX9TyM9bDtOKfLzOoXsjYo3OPTp",
      "include_colab_link": true
    },
    "kernelspec": {
      "name": "python3",
      "display_name": "Python 3"
    }
  },
  "cells": [
    {
      "cell_type": "markdown",
      "metadata": {
        "id": "view-in-github",
        "colab_type": "text"
      },
      "source": [
        "<a href=\"https://colab.research.google.com/github/taesamja/2020bmt_AI_python/blob/master/%EB%84%A4%EC%9D%B4%EB%B2%84%EB%82%A0%EC%94%A8%EC%A0%95%EB%B3%B4%EA%B0%80%EC%A0%B8%EC%98%A4%EA%B8%B0.ipynb\" target=\"_parent\"><img src=\"https://colab.research.google.com/assets/colab-badge.svg\" alt=\"Open In Colab\"/></a>"
      ]
    },
    {
      "cell_type": "markdown",
      "metadata": {
        "id": "_yGqXXETTeEP"
      },
      "source": [
        "참고사이트   \n",
        "\n",
        "[python 네이버 날씨 크롤링](https://velog.io/@magnoliarfsit/%ED%8C%8C%EC%9D%B4%EC%8D%AC-%EC%9B%B9-%ED%81%AC%EB%A1%A4%EB%A7%81-2-%EB%84%A4%EC%9D%B4%EB%B2%84-%EB%82%A0%EC%94%A8-%ED%81%AC%EB%A1%A4%EB%A7%81%ED%95%98%EA%B8%B0)"
      ]
    },
    {
      "cell_type": "code",
      "metadata": {
        "id": "_4W3w7OoS0cx"
      },
      "source": [
        "from bs4 import BeautifulSoup as bs\n",
        "from pprint import pprint\n",
        "import requests\n"
      ],
      "execution_count": 3,
      "outputs": []
    },
    {
      "cell_type": "code",
      "metadata": {
        "id": "oHWtCk0ZTxy9"
      },
      "source": [
        "loc = \"08470650\" #위치 : 연산1동\n",
        "html = requests.get('https://weather.naver.com/today/'+loc) # 위치 : 연산1동\n",
        "#pprint(html.text)"
      ],
      "execution_count": 35,
      "outputs": []
    },
    {
      "cell_type": "code",
      "metadata": {
        "id": "rlhSWXyCUmTf"
      },
      "source": [
        "soup = bs(html.text, 'html.parser')\n",
        "#pprint(soup)"
      ],
      "execution_count": 36,
      "outputs": []
    },
    {
      "cell_type": "code",
      "metadata": {
        "id": "p-nWM3Z8UxDc"
      },
      "source": [
        "data1 = soup.find('div', {'data-region-code':loc})\n",
        "#pprint(data1)"
      ],
      "execution_count": 37,
      "outputs": []
    },
    {
      "cell_type": "code",
      "metadata": {
        "id": "DxnPlRzXU9hW"
      },
      "source": [
        "data2 = data1.find('div', {'class':'weather_area'})\n",
        "#pprint(data2)"
      ],
      "execution_count": null,
      "outputs": []
    },
    {
      "cell_type": "code",
      "metadata": {
        "id": "CdlKIA_DW6Mn",
        "outputId": "362492d0-55b5-4505-f5cd-3e4c0e10a43e",
        "colab": {
          "base_uri": "https://localhost:8080/",
          "height": 35
        }
      },
      "source": [
        "data3 = data2.find('strong',{'class':'current'}).text\n",
        "current_temp = data3[5:].strip()\n",
        "\n",
        "if loc==\"08470650\":\n",
        "  loc_text = \"연산 1동의 현재 온도\"\n",
        "  print(\"{}는 {}입니다.\".format(loc_text, current_temp))\n",
        "else :\n",
        "  print(\"{}는 {}입니다.\".format(loc, current_temp))"
      ],
      "execution_count": 44,
      "outputs": [
        {
          "output_type": "stream",
          "text": [
            "연산 1동의 현재 온도는 19°입니다.\n"
          ],
          "name": "stdout"
        }
      ]
    },
    {
      "cell_type": "code",
      "metadata": {
        "id": "3OaN6q5yXdYW"
      },
      "source": [
        ""
      ],
      "execution_count": null,
      "outputs": []
    }
  ]
}